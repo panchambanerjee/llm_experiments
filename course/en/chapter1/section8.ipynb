{
  "cells": [
    {
      "cell_type": "markdown",
      "metadata": {
        "id": "46B4WoUQYPU4"
      },
      "source": [
        "# Bias and limitations"
      ]
    },
    {
      "cell_type": "markdown",
      "metadata": {
        "id": "CEKU9lX9YPU8"
      },
      "source": [
        "Install the Transformers, Datasets, and Evaluate libraries to run this notebook."
      ]
    },
    {
      "cell_type": "code",
      "execution_count": null,
      "metadata": {
        "id": "r9tnZRKmYPU8"
      },
      "outputs": [],
      "source": [
        "!pip install datasets evaluate transformers[sentencepiece]"
      ]
    },
    {
      "cell_type": "code",
      "execution_count": null,
      "metadata": {
        "id": "LZflu1tmYPU9",
        "outputId": "bdead6ae-f9e0-4549-f572-f6e55c66dce5"
      },
      "outputs": [
        {
          "data": {
            "text/plain": [
              "['lawyer', 'carpenter', 'doctor', 'waiter', 'mechanic']\n",
              "['nurse', 'waitress', 'teacher', 'maid', 'prostitute']"
            ]
          },
          "execution_count": null,
          "metadata": {},
          "output_type": "execute_result"
        }
      ],
      "source": [
        "from transformers import pipeline\n",
        "\n",
        "unmasker = pipeline(\"fill-mask\", model=\"bert-base-uncased\")\n",
        "result = unmasker(\"This man works as a [MASK].\")\n",
        "print([r[\"token_str\"] for r in result])\n",
        "\n",
        "result = unmasker(\"This woman works as a [MASK].\")\n",
        "print([r[\"token_str\"] for r in result])"
      ]
    }
  ],
  "metadata": {
    "colab": {
      "name": "Bias and limitations",
      "provenance": []
    }
  },
  "nbformat": 4,
  "nbformat_minor": 0
}