{
 "cells": [
  {
   "cell_type": "code",
   "execution_count": 1,
   "id": "2de304e6",
   "metadata": {},
   "outputs": [],
   "source": [
    "from langchain import PromptTemplate, HuggingFaceHub, LLMChain\n",
    "from langchain.callbacks import FileCallbackHandler\n",
    "from langchain.llms import OpenAI\n",
    "import pandas as pd\n",
    "\n",
    "\n",
    "import os\n",
    "os.environ['OPENAI_API_KEY'] = ''"
   ]
  },
  {
   "cell_type": "code",
   "execution_count": 2,
   "id": "a92470d0",
   "metadata": {},
   "outputs": [],
   "source": [
    "from loguru import logger\n",
    "\n",
    "logfile = 'output.log'\n",
    "\n",
    "logger.add(logfile, colorize=True, enqueue=True)\n",
    "handler = FileCallbackHandler(logfile)"
   ]
  },
  {
   "cell_type": "code",
   "execution_count": 3,
   "id": "49545dff",
   "metadata": {},
   "outputs": [],
   "source": [
    "davinci = OpenAI(model_name='text-davinci-003')\n",
    "\n",
    "multi_template = \"\"\"Answer the following questions one at a time.\n",
    "\n",
    "Questions:\n",
    "{questions}\n",
    "\n",
    "Answers:\n",
    "\n",
    "\"\"\"\n",
    "long_prompt = PromptTemplate(\n",
    "    template=multi_template,\n",
    "    input_variables=[\"questions\"]\n",
    ")\n",
    "\n",
    "llm_chain = LLMChain(\n",
    "    prompt=long_prompt,\n",
    "    llm=davinci,\n",
    "    callbacks=[handler]\n",
    ")"
   ]
  },
  {
   "cell_type": "code",
   "execution_count": 4,
   "id": "c4ed4232",
   "metadata": {},
   "outputs": [],
   "source": [
    "df = pd.read_csv('products.csv')"
   ]
  },
  {
   "cell_type": "code",
   "execution_count": 5,
   "id": "0a12bd8c",
   "metadata": {},
   "outputs": [],
   "source": [
    "question_lst = []\n",
    "\n",
    "for product in df['product_name'].tolist()[:10]:\n",
    "    question = f\"What can you tell me about {product}?\"\n",
    "    question_lst.append(question)"
   ]
  },
  {
   "cell_type": "code",
   "execution_count": 6,
   "id": "9e3837e4",
   "metadata": {},
   "outputs": [
    {
     "data": {
      "text/plain": [
       "\"What can you tell me about Chocolate Sandwich Cookies? \\n What can you tell me about All-Seasons Salt? \\n What can you tell me about Robust Golden Unsweetened Oolong Tea? \\n What can you tell me about Smart Ones Classic Favorites Mini Rigatoni With Vodka Cream Sauce? \\n What can you tell me about Green Chile Anytime Sauce? \\n What can you tell me about Dry Nose Oil? \\n What can you tell me about Pure Coconut Water With Orange? \\n What can you tell me about Cut Russet Potatoes Steam N' Mash? \\n What can you tell me about Light Strawberry Blueberry Yogurt? \\n What can you tell me about Sparkling Orange Juice & Prickly Pear Beverage?\""
      ]
     },
     "execution_count": 6,
     "metadata": {},
     "output_type": "execute_result"
    }
   ],
   "source": [
    "question_qry = \" \\n \".join(question_lst)\n",
    "question_qry"
   ]
  },
  {
   "cell_type": "code",
   "execution_count": 7,
   "id": "901aad82",
   "metadata": {},
   "outputs": [
    {
     "name": "stderr",
     "output_type": "stream",
     "text": [
      "Error in FileCallbackHandler.on_chain_start callback: 'name'\n",
      "\u001b[32m2023-07-04 00:30:58.771\u001b[0m | \u001b[1mINFO    \u001b[0m | \u001b[36m__main__\u001b[0m:\u001b[36m<module>\u001b[0m:\u001b[36m2\u001b[0m - \u001b[1m1. Chocolate Sandwich Cookies are a classic treat made with two chocolate-flavored cookies and a creamy filling. They are usually enjoyed as a snack or dessert. \n",
      "2. All-Seasons Salt is a blend of sea salt, garlic, onion, paprika, and other spices, and can be used to season a variety of dishes for added flavor.\n",
      "3. Robust Golden Unsweetened Oolong Tea is a type of Chinese tea known for its strong flavor and aroma. It has a deep, roasted flavor and is commonly enjoyed hot or cold.\n",
      "4. Smart Ones Classic Favorites Mini Rigatoni With Vodka Cream Sauce is a frozen meal that combines mini rigatoni pasta and a creamy vodka sauce. It is a quick and easy meal option.\n",
      "5. Green Chile Anytime Sauce is a versatile sauce made with green chiles, garlic, onion, and spices. It can be used to add flavor to a variety of dishes.\n",
      "6. Dry Nose Oil is a blend of natural oils that can be used to moisturize and lubricate the nose and sinuses. It can help relieve dryness and irritation.\n",
      "7. Pure Coconut Water With Orange is a refreshing beverage made with pure coconut water and a hint of natural orange\u001b[0m\n"
     ]
    }
   ],
   "source": [
    "response = llm_chain.run(question_qry)\n",
    "logger.info(response)"
   ]
  },
  {
   "cell_type": "code",
   "execution_count": null,
   "id": "f824fa10",
   "metadata": {},
   "outputs": [],
   "source": []
  }
 ],
 "metadata": {
  "kernelspec": {
   "display_name": "Python 3 (ipykernel)",
   "language": "python",
   "name": "python3"
  },
  "language_info": {
   "codemirror_mode": {
    "name": "ipython",
    "version": 3
   },
   "file_extension": ".py",
   "mimetype": "text/x-python",
   "name": "python",
   "nbconvert_exporter": "python",
   "pygments_lexer": "ipython3",
   "version": "3.9.4"
  }
 },
 "nbformat": 4,
 "nbformat_minor": 5
}
